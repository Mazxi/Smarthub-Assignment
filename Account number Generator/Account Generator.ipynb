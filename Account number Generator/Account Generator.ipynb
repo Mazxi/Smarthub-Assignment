{
 "cells": [
  {
   "cell_type": "code",
   "execution_count": 16,
   "metadata": {},
   "outputs": [],
   "source": [
    "from random import randint\n",
    "\n",
    "def account_no_gen(name, acct_no =\"\"):\n",
    "    for i in range(10):\n",
    "        digit = randint(0,9)\n",
    "        acct_no = acct_no + str(digit)\n",
    "    return f\"ACCOUNT NAME: {name} ACCOUNT NUMBER: {acct_no}\""
   ]
  },
  {
   "cell_type": "code",
   "execution_count": 17,
   "metadata": {},
   "outputs": [
    {
     "name": "stdout",
     "output_type": "stream",
     "text": [
      "Please enter your the full name: Mary Madanni\n"
     ]
    }
   ],
   "source": [
    "name = input(\"Please enter your the full name: \")\n",
    "\n",
    "file = open(\"acct number.txt\",\"w\")\n",
    "file.write(account_no_gen(name))\n",
    "file.close()"
   ]
  },
  {
   "cell_type": "code",
   "execution_count": null,
   "metadata": {},
   "outputs": [],
   "source": []
  }
 ],
 "metadata": {
  "kernelspec": {
   "display_name": "Python 3",
   "language": "python",
   "name": "python3"
  },
  "language_info": {
   "codemirror_mode": {
    "name": "ipython",
    "version": 3
   },
   "file_extension": ".py",
   "mimetype": "text/x-python",
   "name": "python",
   "nbconvert_exporter": "python",
   "pygments_lexer": "ipython3",
   "version": "3.7.3"
  }
 },
 "nbformat": 4,
 "nbformat_minor": 2
}
