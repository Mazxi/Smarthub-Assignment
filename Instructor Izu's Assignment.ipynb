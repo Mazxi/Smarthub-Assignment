{
 "cells": [
  {
   "cell_type": "code",
   "execution_count": null,
   "metadata": {},
   "outputs": [],
   "source": [
    "## number 1"
   ]
  },
  {
   "cell_type": "code",
   "execution_count": 2,
   "metadata": {},
   "outputs": [
    {
     "name": "stdout",
     "output_type": "stream",
     "text": [
      "Please Enter your first nameFred\n",
      "Hello, Fred\n"
     ]
    }
   ],
   "source": [
    "name = input(\"Please Enter your first name\")\n",
    "print(\"Hello, \"+name)"
   ]
  },
  {
   "cell_type": "code",
   "execution_count": 6,
   "metadata": {},
   "outputs": [
    {
     "name": "stdout",
     "output_type": "stream",
     "text": [
      "Please Enter your first name: matty\n",
      "Please Enter your surname: florence\n",
      "Hello, matty florence\n"
     ]
    }
   ],
   "source": [
    "first_name = input(\"Please Enter your first name: \")\n",
    "surname = input(\"Please Enter your surname: \")\n",
    "print(\"Hello, \"+first_name,surname)"
   ]
  },
  {
   "cell_type": "code",
   "execution_count": 9,
   "metadata": {},
   "outputs": [
    {
     "ename": "SyntaxError",
     "evalue": "invalid syntax (<ipython-input-9-0fadcc48cffe>, line 1)",
     "output_type": "error",
     "traceback": [
      "\u001b[1;36m  File \u001b[1;32m\"<ipython-input-9-0fadcc48cffe>\"\u001b[1;36m, line \u001b[1;32m1\u001b[0m\n\u001b[1;33m    print(\"What do you call a bear with no teeth?\" /n\"Gummy Bear\")\u001b[0m\n\u001b[1;37m                                                                ^\u001b[0m\n\u001b[1;31mSyntaxError\u001b[0m\u001b[1;31m:\u001b[0m invalid syntax\n"
     ]
    }
   ],
   "source": [
    "print(\"What do you call a bear with no teeth?\" /n\"Gummy Bear\")"
   ]
  },
  {
   "cell_type": "code",
   "execution_count": null,
   "metadata": {},
   "outputs": [],
   "source": [
    "a = int(input(\"Please enter a number\"))\n",
    "b = int(input(\"Please enter another number \"))\n",
    "answer = a+b\n",
    "print(\"The total is \", answer)\n"
   ]
  },
  {
   "cell_type": "code",
   "execution_count": null,
   "metadata": {},
   "outputs": [],
   "source": [
    "a = int(input(\"Please enter a number\")\n",
    "b = int(input(\"Please enter another number \")\n",
    "c = int(input(\"Please enter another number \")\n",
    "answer = a+b+c\n",
    "print(\"The answer is \", answer)\n"
   ]
  },
  {
   "cell_type": "code",
   "execution_count": 10,
   "metadata": {},
   "outputs": [
    {
     "name": "stdout",
     "output_type": "stream",
     "text": [
      "please enter how many pieces of pizza you started with: 56\n",
      "Please how many slices have you guys eaten23\n",
      "You guys have 33 left\n"
     ]
    }
   ],
   "source": [
    "start = int(input(\"please enter how many pieces of pizza you started with: \"))\n",
    "eaten = int(input(\"Please how many slices have you guys eaten: \"))\n",
    "left = start-eaten\n",
    "print(f\"You guys have {left} pizzas left\")"
   ]
  },
  {
   "cell_type": "code",
   "execution_count": 12,
   "metadata": {},
   "outputs": [
    {
     "name": "stdout",
     "output_type": "stream",
     "text": [
      "please enter your name: Max\n",
      "Please enter your age, user: 23\n",
      "Max by your next birthday you will be 24\n"
     ]
    }
   ],
   "source": [
    "name = input(\"please enter your name: \")\n",
    "age = int(input(\"Please enter your age, user: \"))\n",
    "age += 1\n",
    "print(name,\"by your next birthday you will be\", age)\n"
   ]
  },
  {
   "cell_type": "code",
   "execution_count": null,
   "metadata": {},
   "outputs": [],
   "source": [
    "t_bill = input(\"Please enter your total bill: \")\n",
    "n_dinner = input(\"please enter the number of dinner had: \")\n",
    "bill = t_bill/n_dinner\n",
    "print(\"Each person is to pay\",bill)"
   ]
  },
  {
   "cell_type": "code",
   "execution_count": 18,
   "metadata": {},
   "outputs": [
    {
     "name": "stdout",
     "output_type": "stream",
     "text": [
      "Please enter number of days: 30\n",
      "In terms of hours there are 720 hours in 30 days\n",
      "In terms of minutes there are 43200 hours in 30 days\n",
      "In terms of seconds there are 2592000 hours in 30 days\n"
     ]
    }
   ],
   "source": [
    "number_of_days = int(input(\"Please enter number of days: \"))\n",
    "hour, minute, second = 24, 60, 60\n",
    "hours = number_of_days*hour\n",
    "minutes = hours*minute\n",
    "seconds = minutes*second\n",
    "print(f\"In terms of hours there are {hours} hours in {number_of_days} days\")\n",
    "print(f\"In terms of minutes there are {minutes} hours in {number_of_days} days\")\n",
    "print(f\"In terms of seconds there are {seconds} hours in {number_of_days} days\")  "
   ]
  },
  {
   "cell_type": "code",
   "execution_count": 19,
   "metadata": {},
   "outputs": [
    {
     "name": "stdout",
     "output_type": "stream",
     "text": [
      "Please enter weight in kilograms: 3\n",
      "Your weight in pounds is:  6612.0\n"
     ]
    }
   ],
   "source": [
    "kilograms = float(input(\"Please enter weight in kilograms: \"))\n",
    "pounds = kilograms*2204\n",
    "print(\"Your weight in pounds is: \",pounds)"
   ]
  },
  {
   "cell_type": "code",
   "execution_count": null,
   "metadata": {},
   "outputs": [],
   "source": [
    "x = int(input(\"Please enter a number, it should be greater than 100: \"))\n",
    "y = int(input(\"Please enter a number that is less than 10: \"))\n",
    "z = x//y\n",
    "print(f\"The number {y} went {z} times into {x}\")"
   ]
  }
 ],
 "metadata": {
  "kernelspec": {
   "display_name": "Python 3",
   "language": "python",
   "name": "python3"
  },
  "language_info": {
   "codemirror_mode": {
    "name": "ipython",
    "version": 3
   },
   "file_extension": ".py",
   "mimetype": "text/x-python",
   "name": "python",
   "nbconvert_exporter": "python",
   "pygments_lexer": "ipython3",
   "version": "3.7.3"
  }
 },
 "nbformat": 4,
 "nbformat_minor": 2
}
