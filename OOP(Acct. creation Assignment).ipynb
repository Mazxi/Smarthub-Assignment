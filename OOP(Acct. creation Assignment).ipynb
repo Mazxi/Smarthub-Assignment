{
 "cells": [
  {
   "cell_type": "code",
   "execution_count": null,
   "metadata": {},
   "outputs": [],
   "source": [
    "### The code below creates an account by accepting name, account type, and initial deposit."
   ]
  },
  {
   "cell_type": "code",
   "execution_count": 1,
   "metadata": {},
   "outputs": [],
   "source": [
    "from random import randint"
   ]
  },
  {
   "cell_type": "code",
   "execution_count": 5,
   "metadata": {},
   "outputs": [],
   "source": [
    "class Bank:\n",
    "    def __init__(self,first_name,surname,acct_type,initial_deposit):\n",
    "        self.first_name = first_name\n",
    "        self.surname = surname\n",
    "        self.acct_type = acct_type\n",
    "        self.init_deposit = init_deposit\n",
    "        self.balance = init_deposit\n",
    "        self.acct_number = \"\"\n",
    "        for i in range(10):\n",
    "            digit = randint(0,9)\n",
    "            self.acct_number += str(digit)\n",
    "            \n",
    "            "
   ]
  },
  {
   "cell_type": "code",
   "execution_count": 6,
   "metadata": {},
   "outputs": [
    {
     "name": "stdout",
     "output_type": "stream",
     "text": [
      "Please enter your first name: ric\n",
      "Please enter your surname: Harry\n",
      "Please enter your acct_type: Savings\n",
      "Please enter your Opening deposit: 2030\n"
     ]
    }
   ],
   "source": [
    "first_name = input(\"Please enter your first name: \")\n",
    "surname = input(\"Please enter your surname: \")\n",
    "acct_type = input(\"Please enter your acct_type: \")\n",
    "init_deposit = float(input(\"Please enter your Opening deposit: \"))\n",
    "\n",
    "acct1 = Bank(first_name, surname, acct_type, init_deposit)\n"
   ]
  },
  {
   "cell_type": "code",
   "execution_count": 7,
   "metadata": {},
   "outputs": [
    {
     "data": {
      "text/plain": [
       "'Harry'"
      ]
     },
     "execution_count": 7,
     "metadata": {},
     "output_type": "execute_result"
    }
   ],
   "source": [
    "acct1.surname"
   ]
  },
  {
   "cell_type": "code",
   "execution_count": 8,
   "metadata": {},
   "outputs": [
    {
     "data": {
      "text/plain": [
       "'5668187068'"
      ]
     },
     "execution_count": 8,
     "metadata": {},
     "output_type": "execute_result"
    }
   ],
   "source": [
    "acct1.acct_number"
   ]
  },
  {
   "cell_type": "code",
   "execution_count": null,
   "metadata": {},
   "outputs": [],
   "source": []
  }
 ],
 "metadata": {
  "kernelspec": {
   "display_name": "Python 3",
   "language": "python",
   "name": "python3"
  },
  "language_info": {
   "codemirror_mode": {
    "name": "ipython",
    "version": 3
   },
   "file_extension": ".py",
   "mimetype": "text/x-python",
   "name": "python",
   "nbconvert_exporter": "python",
   "pygments_lexer": "ipython3",
   "version": "3.7.3"
  }
 },
 "nbformat": 4,
 "nbformat_minor": 2
}
