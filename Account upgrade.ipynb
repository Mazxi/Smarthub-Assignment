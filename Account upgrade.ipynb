{
 "cells": [
  {
   "cell_type": "code",
   "execution_count": 7,
   "metadata": {},
   "outputs": [],
   "source": [
    "from random import randint\n",
    "class Bank:\n",
    "    def __init__(self,\n",
    "                 first_name,\n",
    "                 last_name,\n",
    "                 init_dep,\n",
    "                 acc_type):\n",
    "        self.first_name=first_name\n",
    "        self.last_name=last_name\n",
    "        self.init_dep=init_dep\n",
    "        self.acc_type=acc_type\n",
    "        self.balance=init_dep\n",
    "        self.acc_number=\"\"\n",
    "        for i in range(10):\n",
    "            digit= randint(0,9)\n",
    "            self.acc_number =self.acc_number+ str(digit)\n",
    "    \n",
    "    def withdraw(self,amount):\n",
    "        self.balance=self.balance-amount\n",
    "        print(\"withdrawal successful!\")\n",
    "    \n",
    "    def deposit(self,amount):\n",
    "        if (self.acc_type==\"Savings\" and amount>100000):\n",
    "         \n",
    "            print(f\"Account credited with {amount}\")\n",
    "            print(f\"Account Balance: {self.balance}\")\n",
    "            print()\n",
    "            print(\"Please, the max deposit for savings is 100000\")\n",
    "            print(\"\"\"due to cbn policy , please upgrade your \n",
    "            account before you can \n",
    "            access this cash.\\n This can only be done in\n",
    "            any of our branches\"\"\")\n",
    "            self.len_amount=amount\n",
    "                  \n",
    "        else:\n",
    "            self.balance +=amount\n",
    "            print(f\"Account credited with {amount}\")\n",
    "            print(f\"Account Balance: {self.balance}\")\n",
    "    def account_balance(self):\n",
    "        print(f\"Balance: {self.balance}\")\n",
    "        print(f\"Len Amount: {self.len_amount}\")\n",
    "        print(f\"ledger Balance: {self.len_amount+self.balance}\")\n",
    "    \n",
    "    def acct_upgrade(self,acct_type):\n",
    "        self.acct_type = acct_type\n",
    "        print(f\"{acct_type}\")\n",
    "        print(\"Account upgrade successful thanks for banking with us.\")"
   ]
  },
  {
   "cell_type": "code",
   "execution_count": 8,
   "metadata": {},
   "outputs": [],
   "source": [
    "cus1 = Bank(\"David\", \"Ric\", 1E6, \"Savings\")"
   ]
  },
  {
   "cell_type": "code",
   "execution_count": 9,
   "metadata": {},
   "outputs": [
    {
     "data": {
      "text/plain": [
       "'Savings'"
      ]
     },
     "execution_count": 9,
     "metadata": {},
     "output_type": "execute_result"
    }
   ],
   "source": [
    "cus1.acc_type"
   ]
  },
  {
   "cell_type": "code",
   "execution_count": 10,
   "metadata": {},
   "outputs": [
    {
     "name": "stdout",
     "output_type": "stream",
     "text": [
      "Fixed deposit\n",
      "Account upgrade successful thanks for banking with us.\n"
     ]
    }
   ],
   "source": [
    "cus1.acct_upgrade(\"Fixed deposit\")"
   ]
  },
  {
   "cell_type": "code",
   "execution_count": null,
   "metadata": {},
   "outputs": [],
   "source": []
  }
 ],
 "metadata": {
  "kernelspec": {
   "display_name": "Python 3",
   "language": "python",
   "name": "python3"
  },
  "language_info": {
   "codemirror_mode": {
    "name": "ipython",
    "version": 3
   },
   "file_extension": ".py",
   "mimetype": "text/x-python",
   "name": "python",
   "nbconvert_exporter": "python",
   "pygments_lexer": "ipython3",
   "version": "3.7.3"
  }
 },
 "nbformat": 4,
 "nbformat_minor": 2
}
