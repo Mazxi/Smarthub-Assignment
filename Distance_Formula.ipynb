{
 "cells": [
  {
   "cell_type": "code",
   "execution_count": 4,
   "metadata": {},
   "outputs": [
    {
     "name": "stdout",
     "output_type": "stream",
     "text": [
      "Please enter the value of X1: 5\n",
      "Please enter the value of X2: 6\n",
      "Please enter the value of Y1: 7\n",
      "Please enter the value of Y2: 8\n",
      "The distance between the two points are:  1.4142135623730951\n"
     ]
    }
   ],
   "source": [
    "x1 = int(input(\"Please enter the value of X1: \"))\n",
    "x2 = int(input(\"Please enter the value of X2: \"))\n",
    "y1 = int(input(\"Please enter the value of Y1: \"))\n",
    "y2 = int(input(\"Please enter the value of Y2: \"))\n",
    "dist = ((x2-x1)**2+(y2-y1)**2)**0.5\n",
    "print(\"The distance between the two points are: \", dist)"
   ]
  },
  {
   "cell_type": "code",
   "execution_count": null,
   "metadata": {},
   "outputs": [],
   "source": []
  }
 ],
 "metadata": {
  "kernelspec": {
   "display_name": "Python 3",
   "language": "python",
   "name": "python3"
  },
  "language_info": {
   "codemirror_mode": {
    "name": "ipython",
    "version": 3
   },
   "file_extension": ".py",
   "mimetype": "text/x-python",
   "name": "python",
   "nbconvert_exporter": "python",
   "pygments_lexer": "ipython3",
   "version": "3.7.3"
  }
 },
 "nbformat": 4,
 "nbformat_minor": 2
}
