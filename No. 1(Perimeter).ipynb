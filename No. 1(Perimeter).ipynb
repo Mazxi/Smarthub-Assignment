{
 "cells": [
  {
   "cell_type": "code",
   "execution_count": 2,
   "metadata": {},
   "outputs": [
    {
     "name": "stdout",
     "output_type": "stream",
     "text": [
      "Please enter the lenght of the rectangle: 7\n",
      "Please enter the width of the rectangle: 6\n",
      "The perimeter of the rectangle is  7676\n"
     ]
    }
   ],
   "source": [
    "## This progam prints the area of a rectangle\n",
    "l = int(input(\"Please enter the lenght of the rectangle: \")) # this line accepts length\n",
    "w = int(input(\"Please enter the width of the rectangle: \"))  # this line accepts width\n",
    "p = 2*(l+w) # Calculated for perimeter on this line\n",
    "print(\"The perimeter of the rectangle is \", p) # printed on this line"
   ]
  },
  {
   "cell_type": "code",
   "execution_count": null,
   "metadata": {},
   "outputs": [],
   "source": []
  }
 ],
 "metadata": {
  "kernelspec": {
   "display_name": "Python 3",
   "language": "python",
   "name": "python3"
  },
  "language_info": {
   "codemirror_mode": {
    "name": "ipython",
    "version": 3
   },
   "file_extension": ".py",
   "mimetype": "text/x-python",
   "name": "python",
   "nbconvert_exporter": "python",
   "pygments_lexer": "ipython3",
   "version": "3.7.3"
  }
 },
 "nbformat": 4,
 "nbformat_minor": 2
}
