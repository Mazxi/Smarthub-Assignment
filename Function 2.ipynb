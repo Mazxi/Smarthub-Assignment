{
 "cells": [
  {
   "cell_type": "markdown",
   "metadata": {},
   "source": [
    "<span  style  = \"color:blue; font-size:17px\"> No.2 This is a program that calculates the factorial of any positive integer.</span> "
   ]
  },
  {
   "cell_type": "code",
   "execution_count": null,
   "metadata": {},
   "outputs": [],
   "source": [
    "def factorial(x, y = 0, z = -1):\n",
    "    a = 1\n",
    "    for i in range(x,y,z):\n",
    "        a = (i*a)\n",
    "    return f\"The factoral of {x} is {a}\""
   ]
  },
  {
   "cell_type": "code",
   "execution_count": null,
   "metadata": {},
   "outputs": [],
   "source": [
    "t = int(input(\"Please enter a value that it factorial will be check: \"))\n",
    "factorial(t)"
   ]
  },
  {
   "cell_type": "code",
   "execution_count": null,
   "metadata": {},
   "outputs": [],
   "source": []
  },
  {
   "cell_type": "markdown",
   "metadata": {},
   "source": [
    "<span  style = \"color:blue; font-size:17px\"> No.3 </span>"
   ]
  },
  {
   "cell_type": "code",
   "execution_count": null,
   "metadata": {},
   "outputs": [],
   "source": [
    "def factorial(x, y = 0, z = 1):\n",
    "    b = []\n",
    "    a = 1\n",
    "    c = 0\n",
    "    for i in range(y,x,z):\n",
    "        a = (i+1)*a\n",
    "        b.append(a/(i+1))\n",
    "    c = sum(b)\n",
    "    return c"
   ]
  },
  {
   "cell_type": "code",
   "execution_count": null,
   "metadata": {},
   "outputs": [],
   "source": [
    "x = int(input(\"Please enter a value that it's factorial will be found: \"))\n",
    "factorial(x)"
   ]
  },
  {
   "cell_type": "code",
   "execution_count": null,
   "metadata": {},
   "outputs": [],
   "source": []
  }
 ],
 "metadata": {
  "kernelspec": {
   "display_name": "Python 3",
   "language": "python",
   "name": "python3"
  },
  "language_info": {
   "codemirror_mode": {
    "name": "ipython",
    "version": 3
   },
   "file_extension": ".py",
   "mimetype": "text/x-python",
   "name": "python",
   "nbconvert_exporter": "python",
   "pygments_lexer": "ipython3",
   "version": "3.7.3"
  }
 },
 "nbformat": 4,
 "nbformat_minor": 2
}
