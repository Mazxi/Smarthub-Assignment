{
 "cells": [
  {
   "cell_type": "code",
   "execution_count": 1,
   "metadata": {},
   "outputs": [],
   "source": [
    "##  Assignment 1(Leap Year)"
   ]
  },
  {
   "cell_type": "code",
   "execution_count": null,
   "metadata": {},
   "outputs": [],
   "source": [
    "## The program below tells a user if the year entered is a leap year or not"
   ]
  },
  {
   "cell_type": "code",
   "execution_count": null,
   "metadata": {},
   "outputs": [],
   "source": [
    "year = int(input(\"Please enter year: \"))\n",
    "if year % 4 == 0:\n",
    "    print(\"year is a leap year\")\n",
    "elif year % 100 and year % 400:\n",
    "    print(\"year is a leap year\")\n",
    "else:\n",
    "    print(\"year is not a leap year\")"
   ]
  },
  {
   "cell_type": "code",
   "execution_count": null,
   "metadata": {},
   "outputs": [],
   "source": []
  },
  {
   "cell_type": "code",
   "execution_count": 3,
   "metadata": {},
   "outputs": [],
   "source": [
    "## Assignment 2(Factors of a number)"
   ]
  },
  {
   "cell_type": "code",
   "execution_count": null,
   "metadata": {},
   "outputs": [],
   "source": [
    "## The program below prints the divisors of a number entered by a user"
   ]
  },
  {
   "cell_type": "code",
   "execution_count": 4,
   "metadata": {},
   "outputs": [
    {
     "name": "stdout",
     "output_type": "stream",
     "text": [
      "Please enter a number: 45\n",
      "1\n",
      "3\n",
      "5\n",
      "9\n",
      "15\n",
      "45\n"
     ]
    }
   ],
   "source": [
    "number = int(input(\"Please enter a number: \"))\n",
    "for i in range(number):\n",
    "    k = i+1\n",
    "    if number%(k) == 0:\n",
    "        print(k)\n",
    "    "
   ]
  },
  {
   "cell_type": "code",
   "execution_count": null,
   "metadata": {},
   "outputs": [],
   "source": [
    "## Assignment 3"
   ]
  },
  {
   "cell_type": "markdown",
   "metadata": {},
   "source": [
    "<span  style = \"color:blue; font-size:18px\"> \"The code above calculates the total cost of gigs bought by customers. If the number of gigs is below ten then the sum of `$10` for a unit is charged, if the total gig is between `10 and 100` $10 is charge for a unit, and if the total gigs is 100 and above `$7`is charged for each gig \" </span>"
   ]
  },
  {
   "cell_type": "code",
   "execution_count": 4,
   "metadata": {},
   "outputs": [
    {
     "name": "stdout",
     "output_type": "stream",
     "text": [
      "Please enter the number of items you bought please: 600\n",
      "The total cost is of the gigs is $4200\n"
     ]
    }
   ],
   "source": [
    "total_gigs = int(input(\"Please enter the number of items you bought please: \"))\n",
    "if total_gigs < 10:\n",
    "    total_cost = total_gigs*12\n",
    "elif total_gigs >= 10 and total_gigs < 100:\n",
    "    total_cost = total_gigs*10\n",
    "else:\n",
    "    total_cost = total_gigs*7\n",
    "print(f\"The total cost is of the gigs is ${total_cost}\")"
   ]
  },
  {
   "cell_type": "code",
   "execution_count": null,
   "metadata": {},
   "outputs": [],
   "source": [
    "## Assignment 4"
   ]
  },
  {
   "cell_type": "markdown",
   "metadata": {},
   "source": [
    "<span  style= \"color:blue; font-size:18px\">\"The code below prints `close` as output if the two numbers inputed by a user is are wthin `0.001` of each other but prints `not close` otherwise\"</span>"
   ]
  },
  {
   "cell_type": "code",
   "execution_count": 7,
   "metadata": {},
   "outputs": [
    {
     "name": "stdout",
     "output_type": "stream",
     "text": [
      "Please enter a number: 1\n",
      "Please enter another number: 4\n",
      "Not close\n"
     ]
    }
   ],
   "source": [
    "x = float(input(\"Please enter a number: \"))\n",
    "y = float(input(\"Please enter another number: \"))\n",
    "if abs(x-y) < 0.001:\n",
    "    print(\"Close\")\n",
    "else:\n",
    "    print(\"Not close\")"
   ]
  },
  {
   "cell_type": "code",
   "execution_count": null,
   "metadata": {},
   "outputs": [],
   "source": []
  }
 ],
 "metadata": {
  "kernelspec": {
   "display_name": "Python 3",
   "language": "python",
   "name": "python3"
  },
  "language_info": {
   "codemirror_mode": {
    "name": "ipython",
    "version": 3
   },
   "file_extension": ".py",
   "mimetype": "text/x-python",
   "name": "python",
   "nbconvert_exporter": "python",
   "pygments_lexer": "ipython3",
   "version": "3.7.3"
  }
 },
 "nbformat": 4,
 "nbformat_minor": 2
}
