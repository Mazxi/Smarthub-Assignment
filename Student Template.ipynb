{
 "cells": [
  {
   "cell_type": "markdown",
   "metadata": {},
   "source": [
    "<span  style = \"color:blue; font-size:20px\"> STUDENT TEMPLATE. </span>"
   ]
  },
  {
   "cell_type": "code",
   "execution_count": null,
   "metadata": {},
   "outputs": [],
   "source": [
    "class Student:\n",
    "    def __init__(self, first_name,\n",
    "                 last_name, std_id,\n",
    "                 dept, faculty):\n",
    "        self.first_name = first_name\n",
    "        self.last_name = last_name\n",
    "        self.std_id = std_id\n",
    "        self.dept = dept\n",
    "        self.faculty = faculty\n",
    "        self.mat_no = f\"{faculty[0:3]}/{dept[0:3]}/{std_id}\"\n",
    "        self.email = f\"{first_name}.{last_name}@smarthub.com\"\n",
    "        self.paid_fees = False\n",
    "        self.level = 100\n",
    "        self.fees = 10E4\n",
    "        self.paid_amt = 0\n",
    "        self.balance = 10E4\n",
    "    \n",
    "    def level_update(self):\n",
    "        self.level += 100\n",
    "                                        \n",
    "    def transfer_dept(self, new_dept):\n",
    "        self.dept = new_dept\n",
    "    \n",
    "    def last_name_update(self, new_name):\n",
    "        self.last_name = new_name\n",
    "    \n",
    "    def first_name_update(self, new_name):\n",
    "        self.first_name = new_name\n",
    "        \n",
    "    def charges_payment(self, amount):\n",
    "        self.paid_amt += amount\n",
    "        if (self.paid_amt % self.fees) == 0:\n",
    "            self.paid_fees = True\n",
    "            print(\"Transction Successful:\\nSchool charge paid completely \")\n",
    "        else:\n",
    "            self.paid_fees = False\n",
    "            "
   ]
  },
  {
   "cell_type": "code",
   "execution_count": null,
   "metadata": {},
   "outputs": [],
   "source": [
    "student_1 = Student(\"Denise\",\"Matty\",9,\"Computer Science\",\"Science\")"
   ]
  },
  {
   "cell_type": "code",
   "execution_count": null,
   "metadata": {},
   "outputs": [],
   "source": [
    "student_1.mat_no"
   ]
  },
  {
   "cell_type": "code",
   "execution_count": null,
   "metadata": {},
   "outputs": [],
   "source": [
    "student_1.dept"
   ]
  },
  {
   "cell_type": "code",
   "execution_count": null,
   "metadata": {},
   "outputs": [],
   "source": []
  },
  {
   "cell_type": "code",
   "execution_count": null,
   "metadata": {},
   "outputs": [],
   "source": [
    "student_1.first_name_update(\"Garry\")"
   ]
  },
  {
   "cell_type": "code",
   "execution_count": null,
   "metadata": {},
   "outputs": [],
   "source": [
    "student_1.last_name_update(\"Dest\")"
   ]
  },
  {
   "cell_type": "code",
   "execution_count": null,
   "metadata": {},
   "outputs": [],
   "source": [
    "student_1.first_name"
   ]
  },
  {
   "cell_type": "code",
   "execution_count": null,
   "metadata": {},
   "outputs": [],
   "source": [
    "student_1.last_name"
   ]
  },
  {
   "cell_type": "code",
   "execution_count": null,
   "metadata": {},
   "outputs": [],
   "source": [
    "student_1.charges_payment(60000)"
   ]
  },
  {
   "cell_type": "code",
   "execution_count": null,
   "metadata": {},
   "outputs": [],
   "source": [
    "student_1.charges_payment(40000)"
   ]
  },
  {
   "cell_type": "code",
   "execution_count": null,
   "metadata": {},
   "outputs": [],
   "source": []
  },
  {
   "cell_type": "code",
   "execution_count": null,
   "metadata": {},
   "outputs": [],
   "source": [
    "student_1.paid_amt"
   ]
  },
  {
   "cell_type": "code",
   "execution_count": null,
   "metadata": {},
   "outputs": [],
   "source": [
    "student_1.paid_fees"
   ]
  },
  {
   "cell_type": "code",
   "execution_count": null,
   "metadata": {},
   "outputs": [],
   "source": []
  }
 ],
 "metadata": {
  "kernelspec": {
   "display_name": "Python 3",
   "language": "python",
   "name": "python3"
  },
  "language_info": {
   "codemirror_mode": {
    "name": "ipython",
    "version": 3
   },
   "file_extension": ".py",
   "mimetype": "text/x-python",
   "name": "python",
   "nbconvert_exporter": "python",
   "pygments_lexer": "ipython3",
   "version": "3.7.3"
  }
 },
 "nbformat": 4,
 "nbformat_minor": 2
}
