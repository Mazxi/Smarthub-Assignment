{
 "cells": [
  {
   "cell_type": "code",
   "execution_count": null,
   "metadata": {},
   "outputs": [],
   "source": [
    "## number 1"
   ]
  },
  {
   "cell_type": "code",
   "execution_count": null,
   "metadata": {},
   "outputs": [],
   "source": [
    "name = input(\"Please Enter your first name\")\n",
    "print(\"Hello, \"+name)"
   ]
  },
  {
   "cell_type": "code",
   "execution_count": null,
   "metadata": {},
   "outputs": [],
   "source": [
    "first_name = input(\"Please Enter your first name: \")\n",
    "surname = input(\"Please Enter your surname: \")\n",
    "print(\"Hello, \"+first_name,surname)"
   ]
  },
  {
   "cell_type": "code",
   "execution_count": null,
   "metadata": {},
   "outputs": [],
   "source": [
    "print(\"What do you call a bear with no teeth?\\nGummy Bear\")"
   ]
  },
  {
   "cell_type": "code",
   "execution_count": null,
   "metadata": {},
   "outputs": [],
   "source": [
    "a = int(input(\"Please enter a number\"))\n",
    "b = int(input(\"Please enter another number \"))\n",
    "answer = a+b\n",
    "print(\"The total is \", answer)\n"
   ]
  },
  {
   "cell_type": "code",
   "execution_count": null,
   "metadata": {},
   "outputs": [],
   "source": [
    "a = int(input(\"Please enter a number\")\n",
    "b = int(input(\"Please enter another number \")\n",
    "c = int(input(\"Please enter another number \")\n",
    "answer = a+b+c\n",
    "print(\"The answer is \", answer)\n"
   ]
  },
  {
   "cell_type": "code",
   "execution_count": null,
   "metadata": {},
   "outputs": [],
   "source": [
    "start = int(input(\"please enter how many pieces of pizza you started with: \"))\n",
    "eaten = int(input(\"Please how many slices have you guys eaten: \"))\n",
    "left = start-eaten\n",
    "print(f\"You guys have {left} pizzas left\")"
   ]
  },
  {
   "cell_type": "code",
   "execution_count": null,
   "metadata": {},
   "outputs": [],
   "source": [
    "name = input(\"please enter your name: \")\n",
    "age = int(input(\"Please enter your age, user: \"))\n",
    "age += 1\n",
    "print(name,\"by your next birthday you will be\", age)\n"
   ]
  },
  {
   "cell_type": "code",
   "execution_count": null,
   "metadata": {},
   "outputs": [],
   "source": [
    "t_bill = input(\"Please enter your total bill: \")\n",
    "n_dinner = input(\"please enter the number of dinner had: \")\n",
    "bill = t_bill/n_dinner\n",
    "print(\"Each person is to pay\",bill)"
   ]
  },
  {
   "cell_type": "code",
   "execution_count": null,
   "metadata": {},
   "outputs": [],
   "source": [
    "number_of_days = int(input(\"Please enter number of days: \"))\n",
    "hour, minute, second = 24, 60, 60\n",
    "hours = number_of_days*hour\n",
    "minutes = hours*minute\n",
    "seconds = minutes*second\n",
    "print(f\"In terms of hours there are {hours} hours in {number_of_days} days\")\n",
    "print(f\"In terms of minutes there are {minutes} hours in {number_of_days} days\")\n",
    "print(f\"In terms of seconds there are {seconds} hours in {number_of_days} days\")  "
   ]
  },
  {
   "cell_type": "code",
   "execution_count": null,
   "metadata": {},
   "outputs": [],
   "source": [
    "kilograms = float(input(\"Please enter weight in kilograms: \"))\n",
    "pounds = kilograms*2204\n",
    "print(\"Your weight in pounds is: \",pounds)"
   ]
  },
  {
   "cell_type": "code",
   "execution_count": null,
   "metadata": {},
   "outputs": [],
   "source": [
    "x = int(input(\"Please enter a number, it should be greater than 100: \"))\n",
    "y = int(input(\"Please enter a number that is less than 10: \"))\n",
    "z = x//y\n",
    "print(f\"The number {y} went {z} times into {x}\")"
   ]
  }
 ],
 "metadata": {
  "kernelspec": {
   "display_name": "Python 3",
   "language": "python",
   "name": "python3"
  },
  "language_info": {
   "codemirror_mode": {
    "name": "ipython",
    "version": 3
   },
   "file_extension": ".py",
   "mimetype": "text/x-python",
   "name": "python",
   "nbconvert_exporter": "python",
   "pygments_lexer": "ipython3",
   "version": "3.7.3"
  }
 },
 "nbformat": 4,
 "nbformat_minor": 2
}
